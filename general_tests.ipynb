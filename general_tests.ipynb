{
 "cells": [
  {
   "cell_type": "code",
   "execution_count": 2,
   "metadata": {},
   "outputs": [],
   "source": [
    "import pandas as pd\n",
    "\n",
    "#course_embeddings\n",
    "course_embeddings = pd.read_csv('course_embeddings.csv')\n",
    "#course_genre\n",
    "course_genre = pd.read_csv('course_genre.csv')\n",
    "#course_processed\n",
    "course_processed = pd.read_csv('course_processed.csv')\n",
    "#course_ratings\n",
    "course_ratings = pd.read_csv('course_ratings.csv')\n",
    "#courses_bows\n",
    "courses_bows = pd.read_csv('courses_bows.csv')\n",
    "#ratings\n",
    "ratings = pd.read_csv('ratings.csv')\n",
    "#rs_content_test\n",
    "rs_content_test = pd.read_csv('rs_content_test.csv')\n",
    "#sim\n",
    "sim = pd.read_csv('sim.csv')\n",
    "#user_embeddings\n",
    "user_embeddings = pd.read_csv('user_embeddings.csv')\n",
    "#user_profile\n",
    "user_profile = pd.read_csv('user_profile.csv')"
   ]
  },
  {
   "cell_type": "code",
   "execution_count": 6,
   "metadata": {},
   "outputs": [
    {
     "name": "stdout",
     "output_type": "stream",
     "text": [
      "course_embeddings columns:  ['item', 'CFeature0', 'CFeature1', 'CFeature2', 'CFeature3', 'CFeature4', 'CFeature5', 'CFeature6', 'CFeature7', 'CFeature8', 'CFeature9', 'CFeature10', 'CFeature11', 'CFeature12', 'CFeature13', 'CFeature14', 'CFeature15']\n"
     ]
    }
   ],
   "source": [
    "#course_embeddings\n",
    "course_embeddings = pd.read_csv('course_embeddings.csv')\n",
    "course_embeddings_columns = list(course_embeddings.columns)\n",
    "print(\"course_embeddings columns: \", course_embeddings_columns)"
   ]
  },
  {
   "cell_type": "code",
   "execution_count": 7,
   "metadata": {},
   "outputs": [
    {
     "name": "stdout",
     "output_type": "stream",
     "text": [
      "course_genre columns:  ['COURSE_ID', 'TITLE', 'Database', 'Python', 'CloudComputing', 'DataAnalysis', 'Containers', 'MachineLearning', 'ComputerVision', 'DataScience', 'BigData', 'Chatbot', 'R', 'BackendDev', 'FrontendDev', 'Blockchain']\n"
     ]
    }
   ],
   "source": [
    "#course_genre\n",
    "course_genre = pd.read_csv('course_genre.csv')\n",
    "course_genre_columns = list(course_genre.columns)\n",
    "print(\"course_genre columns: \", course_genre_columns)"
   ]
  },
  {
   "cell_type": "code",
   "execution_count": 8,
   "metadata": {},
   "outputs": [
    {
     "name": "stdout",
     "output_type": "stream",
     "text": [
      "course_processed columns:  ['COURSE_ID', 'TITLE', 'DESCRIPTION']\n"
     ]
    }
   ],
   "source": [
    "#course_processed\n",
    "course_processed = pd.read_csv('course_processed.csv')\n",
    "course_processed_columns = list(course_processed.columns)\n",
    "print(\"course_processed columns: \", course_processed_columns)"
   ]
  },
  {
   "cell_type": "code",
   "execution_count": 9,
   "metadata": {},
   "outputs": [
    {
     "name": "stdout",
     "output_type": "stream",
     "text": [
      "course_ratings columns:  ['user', 'item', 'rating']\n"
     ]
    }
   ],
   "source": [
    "#course_ratings\n",
    "course_ratings = pd.read_csv('course_ratings.csv')\n",
    "course_ratings_columns = list(course_ratings.columns)\n",
    "print(\"course_ratings columns: \", course_ratings_columns)"
   ]
  },
  {
   "cell_type": "code",
   "execution_count": 10,
   "metadata": {},
   "outputs": [
    {
     "name": "stdout",
     "output_type": "stream",
     "text": [
      "courses_bows columns:  ['doc_index', 'doc_id', 'token', 'bow']\n"
     ]
    }
   ],
   "source": [
    "#courses_bows\n",
    "courses_bows = pd.read_csv('courses_bows.csv')\n",
    "courses_bows_columns = list(courses_bows.columns)\n",
    "print(\"courses_bows columns: \", courses_bows_columns)"
   ]
  },
  {
   "cell_type": "code",
   "execution_count": 11,
   "metadata": {},
   "outputs": [
    {
     "name": "stdout",
     "output_type": "stream",
     "text": [
      "ratings columns:  ['user', 'item', 'rating']\n"
     ]
    }
   ],
   "source": [
    "#ratings\n",
    "ratings = pd.read_csv('ratings.csv')\n",
    "ratings_columns = list(ratings.columns)\n",
    "print(\"ratings columns: \", ratings_columns)"
   ]
  },
  {
   "cell_type": "code",
   "execution_count": 12,
   "metadata": {},
   "outputs": [
    {
     "name": "stdout",
     "output_type": "stream",
     "text": [
      "rs_content_test columns:  ['user', 'item', 'rating']\n"
     ]
    }
   ],
   "source": [
    "#rs_content_test\n",
    "rs_content_test = pd.read_csv('rs_content_test.csv')\n",
    "rs_content_test_columns = list(rs_content_test.columns)\n",
    "print(\"rs_content_test columns: \", rs_content_test_columns)"
   ]
  },
  {
   "cell_type": "code",
   "execution_count": 13,
   "metadata": {},
   "outputs": [
    {
     "name": "stdout",
     "output_type": "stream",
     "text": [
      "sim columns:  ['0', '1', '2', '3', '4', '5', '6', '7', '8', '9', '10', '11', '12', '13', '14', '15', '16', '17', '18', '19', '20', '21', '22', '23', '24', '25', '26', '27', '28', '29', '30', '31', '32', '33', '34', '35', '36', '37', '38', '39', '40', '41', '42', '43', '44', '45', '46', '47', '48', '49', '50', '51', '52', '53', '54', '55', '56', '57', '58', '59', '60', '61', '62', '63', '64', '65', '66', '67', '68', '69', '70', '71', '72', '73', '74', '75', '76', '77', '78', '79', '80', '81', '82', '83', '84', '85', '86', '87', '88', '89', '90', '91', '92', '93', '94', '95', '96', '97', '98', '99', '100', '101', '102', '103', '104', '105', '106', '107', '108', '109', '110', '111', '112', '113', '114', '115', '116', '117', '118', '119', '120', '121', '122', '123', '124', '125', '126', '127', '128', '129', '130', '131', '132', '133', '134', '135', '136', '137', '138', '139', '140', '141', '142', '143', '144', '145', '146', '147', '148', '149', '150', '151', '152', '153', '154', '155', '156', '157', '158', '159', '160', '161', '162', '163', '164', '165', '166', '167', '168', '169', '170', '171', '172', '173', '174', '175', '176', '177', '178', '179', '180', '181', '182', '183', '184', '185', '186', '187', '188', '189', '190', '191', '192', '193', '194', '195', '196', '197', '198', '199', '200', '201', '202', '203', '204', '205', '206', '207', '208', '209', '210', '211', '212', '213', '214', '215', '216', '217', '218', '219', '220', '221', '222', '223', '224', '225', '226', '227', '228', '229', '230', '231', '232', '233', '234', '235', '236', '237', '238', '239', '240', '241', '242', '243', '244', '245', '246', '247', '248', '249', '250', '251', '252', '253', '254', '255', '256', '257', '258', '259', '260', '261', '262', '263', '264', '265', '266', '267', '268', '269', '270', '271', '272', '273', '274', '275', '276', '277', '278', '279', '280', '281', '282', '283', '284', '285', '286', '287', '288', '289', '290', '291', '292', '293', '294', '295', '296', '297', '298', '299', '300', '301', '302', '303', '304', '305', '306']\n"
     ]
    }
   ],
   "source": [
    "#sim\n",
    "sim = pd.read_csv('sim.csv')\n",
    "sim_columns = list(sim.columns)\n",
    "print(\"sim columns: \", sim_columns)"
   ]
  },
  {
   "cell_type": "code",
   "execution_count": 14,
   "metadata": {},
   "outputs": [
    {
     "name": "stdout",
     "output_type": "stream",
     "text": [
      "user_embeddings columns:  ['user', 'UFeature0', 'UFeature1', 'UFeature2', 'UFeature3', 'UFeature4', 'UFeature5', 'UFeature6', 'UFeature7', 'UFeature8', 'UFeature9', 'UFeature10', 'UFeature11', 'UFeature12', 'UFeature13', 'UFeature14', 'UFeature15']\n"
     ]
    }
   ],
   "source": [
    "#user_embeddings\n",
    "user_embeddings = pd.read_csv('user_embeddings.csv')\n",
    "user_embeddings_columns = list(user_embeddings.columns)\n",
    "print(\"user_embeddings columns: \", user_embeddings_columns)"
   ]
  },
  {
   "cell_type": "code",
   "execution_count": 15,
   "metadata": {},
   "outputs": [
    {
     "name": "stdout",
     "output_type": "stream",
     "text": [
      "user_profile columns:  ['user', 'Database', 'Python', 'CloudComputing', 'DataAnalysis', 'Containers', 'MachineLearning', 'ComputerVision', 'DataScience', 'BigData', 'Chatbot', 'R', 'BackendDev', 'FrontendDev', 'Blockchain']\n"
     ]
    }
   ],
   "source": [
    "#user_profile\n",
    "user_profile = pd.read_csv('user_profile.csv')\n",
    "user_profile_columns = list(user_profile.columns)\n",
    "print(\"user_profile columns: \", user_profile_columns)"
   ]
  },
  {
   "cell_type": "code",
   "execution_count": null,
   "metadata": {},
   "outputs": [],
   "source": []
  }
 ],
 "metadata": {
  "kernelspec": {
   "display_name": "Python 3",
   "language": "python",
   "name": "python3"
  },
  "language_info": {
   "codemirror_mode": {
    "name": "ipython",
    "version": 3
   },
   "file_extension": ".py",
   "mimetype": "text/x-python",
   "name": "python",
   "nbconvert_exporter": "python",
   "pygments_lexer": "ipython3",
   "version": "3.10.10"
  },
  "orig_nbformat": 4,
  "vscode": {
   "interpreter": {
    "hash": "c31c2c93585b55e010b9381178aeeb9bb3aa7fa708fada384ae012c2fbd9b3c8"
   }
  }
 },
 "nbformat": 4,
 "nbformat_minor": 2
}
