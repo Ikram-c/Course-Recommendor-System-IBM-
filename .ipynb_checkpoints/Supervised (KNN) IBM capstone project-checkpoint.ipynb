{
 "cells": [
  {
   "attachments": {},
   "cell_type": "markdown",
   "id": "5c1066c8",
   "metadata": {},
   "source": []
  },
  {
   "cell_type": "code",
   "execution_count": 1,
   "id": "37932991-e592-4091-8d38-c41b4bd40b19",
   "metadata": {},
   "outputs": [
    {
     "ename": "ModuleNotFoundError",
     "evalue": "No module named 'surprise'",
     "output_type": "error",
     "traceback": [
      "\u001b[1;31m---------------------------------------------------------------------------\u001b[0m",
      "\u001b[1;31mModuleNotFoundError\u001b[0m                       Traceback (most recent call last)",
      "Cell \u001b[1;32mIn [1], line 4\u001b[0m\n\u001b[0;32m      2\u001b[0m \u001b[39mfrom\u001b[39;00m \u001b[39msklearn\u001b[39;00m\u001b[39m.\u001b[39;00m\u001b[39mmetrics\u001b[39;00m \u001b[39mimport\u001b[39;00m f1_score\n\u001b[0;32m      3\u001b[0m \u001b[39mfrom\u001b[39;00m \u001b[39mcollections\u001b[39;00m \u001b[39mimport\u001b[39;00m defaultdict\n\u001b[1;32m----> 4\u001b[0m \u001b[39mfrom\u001b[39;00m \u001b[39msurprise\u001b[39;00m\u001b[39m.\u001b[39;00m\u001b[39mmodel_selection\u001b[39;00m \u001b[39mimport\u001b[39;00m KFold\n\u001b[0;32m      5\u001b[0m \u001b[39mimport\u001b[39;00m \u001b[39mnumpy\u001b[39;00m \u001b[39mas\u001b[39;00m \u001b[39mnp\u001b[39;00m\n\u001b[0;32m      6\u001b[0m \u001b[39mimport\u001b[39;00m \u001b[39mpandas\u001b[39;00m \u001b[39mas\u001b[39;00m \u001b[39mpd\u001b[39;00m\n",
      "\u001b[1;31mModuleNotFoundError\u001b[0m: No module named 'surprise'"
     ]
    }
   ],
   "source": [
    "from sklearn.model_selection import GridSearchCV\n",
    "from sklearn.metrics import f1_score\n",
    "from collections import defaultdict\n",
    "from surprise.model_selection import KFold\n",
    "import numpy as np\n",
    "import pandas as pd\n",
    "from collections import defaultdict"
   ]
  },
  {
   "cell_type": "code",
   "execution_count": 3,
   "id": "fe59c8a6-71ca-4abe-8f0f-99300ad3bead",
   "metadata": {},
   "outputs": [],
   "source": [
    "# Load data\n",
    "rating_df = pd.read_csv('ratings.csv')\n",
    "\n",
    "# Use surprise library\n",
    "# Prepare data\n",
    "reader = Reader(\n",
    "        line_format='user item rating', sep=',', skip_lines=1, rating_scale=(2, 3))\n",
    "coruse_dataset = Dataset.load_from_file(\"course_ratings.csv\", reader=reader)\n",
    "\n",
    "# Use surprise library\n",
    "# Test train split\n",
    "trainset, testset = train_test_split(coruse_dataset, test_size=.25)"
   ]
  },
  {
   "cell_type": "code",
   "execution_count": 4,
   "id": "6d40e16a-f6cc-446f-8666-611a54432d73",
   "metadata": {},
   "outputs": [],
   "source": [
    "#Threshold for the ratings = 2.5\n",
    "\n",
    "def precision_recall_at_k(predictions, k=10, threshold=2.5):\n",
    "    \"\"\"Return precision and recall at k metrics for each user\"\"\"\n",
    "\n",
    "    # First map the predictions to each user.\n",
    "    user_est_true = defaultdict(list)\n",
    "    for uid, _, true_r, est, _ in predictions:\n",
    "        user_est_true[uid].append((est, true_r))\n",
    "\n",
    "    precisions = dict()\n",
    "    recalls = dict()\n",
    "    for uid, user_ratings in user_est_true.items():\n",
    "\n",
    "        # Sort user ratings by estimated value\n",
    "        user_ratings.sort(key=lambda x: x[0], reverse=True)\n",
    "\n",
    "        # Number of relevant items\n",
    "        n_rel = sum((true_r >= threshold) for (_, true_r) in user_ratings)\n",
    "\n",
    "        # Number of recommended items in top k\n",
    "        n_rec_k = sum((est >= threshold) for (est, _) in user_ratings[:k])\n",
    "\n",
    "        # Number of relevant and recommended items in top k\n",
    "        n_rel_and_rec_k = sum(\n",
    "            ((true_r >= threshold) and (est >= threshold))\n",
    "            for (est, true_r) in user_ratings[:k]\n",
    "        )\n",
    "\n",
    "        # Precision@K: Proportion of recommended items that are relevant\n",
    "        # When n_rec_k is 0, Precision is undefined. We here set it to 0.\n",
    "\n",
    "        precisions[uid] = n_rel_and_rec_k / n_rec_k if n_rec_k != 0 else 0\n",
    "\n",
    "        # Recall@K: Proportion of relevant items that are recommended\n",
    "        # When n_rel is 0, Recall is undefined. We here set it to 0.\n",
    "\n",
    "        recalls[uid] = n_rel_and_rec_k / n_rel if n_rel != 0 else 0\n",
    "\n",
    "    return precisions, recalls"
   ]
  },
  {
   "cell_type": "code",
   "execution_count": null,
   "id": "0e2cf018",
   "metadata": {},
   "outputs": [],
   "source": [
    "# Refactored\n",
    "\n",
    "from collections import defaultdict\n",
    "\n",
    "\n",
    "def precision_recall_at_k(predictions, k=10, threshold=2.5):\n",
    "    \"\"\"\n",
    "    Return precision and recall at k metrics for each user\n",
    "    \"\"\"\n",
    "    user_est_true = defaultdict(list)\n",
    "    # Map the predictions to each user\n",
    "    for uid, _, true_r, est, _ in predictions:\n",
    "        user_est_true[uid].append((est, true_r))\n",
    "\n",
    "    precisions = {}\n",
    "    recalls = {}\n",
    "    for uid, user_ratings in user_est_true.items():\n",
    "        # Sort user ratings by estimated value\n",
    "        user_ratings.sort(key=lambda x: x[0], reverse=True)\n",
    "        # Number of relevant items\n",
    "        n_rel = sum(true_r >= threshold for _, true_r in user_ratings)\n",
    "        # Number of recommended items in top k\n",
    "        n_rec_k = sum(est >= threshold for est, _ in user_ratings[:k])\n",
    "        # Number of relevant and recommended items in top k\n",
    "        n_rel_and_rec_k = sum(\n",
    "            true_r >= threshold and est >= threshold\n",
    "            for est, true_r in user_ratings[:k]\n",
    "        )\n",
    "        # Precision@K: Proportion of recommended items that are relevant\n",
    "        # When n_rec_k is 0, Precision is undefined. We here set it to 0.\n",
    "        precisions[uid] = (\n",
    "            n_rel_and_rec_k / n_rec_k if n_rec_k != 0 else 0\n",
    "        )\n",
    "        # Recall@K: Proportion of relevant items that are recommended\n",
    "        # When n_rel is 0, Recall is undefined. We here set it to 0.\n",
    "        recalls[uid] = n_rel_and_rec_k / n_rel if n_rel != 0 else 0\n",
    "\n",
    "    return precisions, recalls\n"
   ]
  },
  {
   "cell_type": "code",
   "execution_count": 6,
   "id": "422f37fe-42b2-49d6-829e-d23c307063e9",
   "metadata": {},
   "outputs": [],
   "source": [
    "#Get average precision and recalls\n",
    "def average_dicts(dictionary):\n",
    "    sum = 0\n",
    "    count = 0\n",
    "    for value in dictionary.values():\n",
    "        sum += value\n",
    "        count += 1\n",
    "    return sum / count\n",
    "\n"
   ]
  },
  {
   "cell_type": "code",
   "execution_count": 7,
   "id": "5b7d3225-ef84-4532-8621-c504187e870a",
   "metadata": {},
   "outputs": [
    {
     "name": "stdout",
     "output_type": "stream",
     "text": [
      "Computing the msd similarity matrix...\n",
      "Done computing similarity matrix.\n"
     ]
    }
   ],
   "source": [
    "# Create the KNNBasic model with the optimal value of k\n",
    "knn_1 = KNNBasic(k=10, sim_options = {'name': 'msd'})\n",
    "\n",
    "# Fit the KNNBasic model to the entire training set\n",
    "knn_1.fit(trainset)\n",
    "\n",
    "# Predict ratings for the test set\n",
    "predictions_1 = knn_1.test(testset)\n",
    "\n",
    "precisions, recalls = precision_recall_at_k(predictions = predictions_1, k=10, threshold=2.5)\n",
    "\n",
    "# Get average Precision and recalls\n",
    "precision_average = average_dicts(precisions)\n",
    "recalls_average = average_dicts(recalls)\n",
    "\n",
    "\n",
    "#f1 value\n",
    "f1_model_1 = 2 * (precision_average * recalls_average) / (precision_average + recalls_average)\n"
   ]
  },
  {
   "cell_type": "code",
   "execution_count": 8,
   "id": "1a939963-6163-4945-979b-abedf3d3b496",
   "metadata": {},
   "outputs": [
    {
     "name": "stdout",
     "output_type": "stream",
     "text": [
      "Computing the cosine similarity matrix...\n",
      "Done computing similarity matrix.\n"
     ]
    }
   ],
   "source": [
    "## Model 2 -> cosine\n",
    "\n",
    "\n",
    "# Create the KNNBasic model with the optimal value of k\n",
    "knn_2 = KNNBasic(k=10, sim_options = {'name': 'cosine'})\n",
    "\n",
    "# Fit the KNNBasic model to the entire training set\n",
    "knn_2.fit(trainset)\n",
    "\n",
    "# Predict ratings for the test set\n",
    "predictions_2 = knn_2.test(testset)\n",
    "\n",
    "#Precision and recall\n",
    "precisions, recalls = precision_recall_at_k(predictions = predictions_2, k=10, threshold=2.5)\n",
    "\n",
    "# Get average Precision and recalls\n",
    "precision_average = average_dicts(precisions)\n",
    "recalls_average = average_dicts(recalls)\n",
    "\n",
    "#f1_model\n",
    "f1_model_2 = 2 * (precision_average * recalls_average) / (precision_average + recalls_average)"
   ]
  },
  {
   "cell_type": "code",
   "execution_count": 9,
   "id": "6f110497-1703-49ac-a52c-0c8382129b6e",
   "metadata": {},
   "outputs": [
    {
     "name": "stdout",
     "output_type": "stream",
     "text": [
      "Computing the cosine similarity matrix...\n",
      "Done computing similarity matrix.\n"
     ]
    }
   ],
   "source": [
    "# Create the KNNBasic model with the optimal value of k\n",
    "knn_3 = KNNBasic(k=20, sim_options = {'name': 'cosine'})\n",
    "\n",
    "# Fit the KNNBasic model to the entire training set\n",
    "knn_3.fit(trainset)\n",
    "\n",
    "# Predict ratings for the test set\n",
    "predictions_3 = knn_3.test(testset)\n",
    "\n",
    "#Precision and recall\n",
    "precisions, recalls = precision_recall_at_k(predictions = predictions_3, k=10, threshold=2.5)\n",
    "\n",
    "# Get average Precision and recalls\n",
    "precision_average = average_dicts(precisions)\n",
    "recalls_average = average_dicts(recalls)\n",
    "\n",
    "#f1_model\n",
    "f1_model_3 = 2 * (precision_average * recalls_average) / (precision_average + recalls_average)"
   ]
  },
  {
   "cell_type": "code",
   "execution_count": 32,
   "id": "ac146d35-607c-4276-9831-f2425ee4592f",
   "metadata": {},
   "outputs": [
    {
     "name": "stdout",
     "output_type": "stream",
     "text": [
      "0.9040308861197852\n",
      "0.9040308861197852\n"
     ]
    }
   ],
   "source": [
    "import matplotlib.pyplot as plt\n",
    "import seaborn as sns\n",
    "f1_values = [f1_model_1, f1_model_2, f1_model_3]\n",
    "\n",
    "maximum = max(f1_values)\n",
    "position = f1_values.index(maximum)\n",
    "print(maximum)\n",
    "print(f1_values[position])\n"
   ]
  },
  {
   "cell_type": "code",
   "execution_count": 33,
   "id": "4423b0f2-7700-4250-ac0a-732d7c5970b0",
   "metadata": {},
   "outputs": [
    {
     "name": "stdout",
     "output_type": "stream",
     "text": [
      "0.9040267862122666\n",
      "0.9040308861197852\n"
     ]
    }
   ],
   "source": [
    "print(min(f1_values[0], f1_values[1], f1_values[2]))\n",
    "print(max(f1_values[0], f1_values[1], f1_values[2]))\n",
    "\n"
   ]
  },
  {
   "cell_type": "code",
   "execution_count": 46,
   "id": "0ea4daa9-d1ed-4b01-8064-030652d459b5",
   "metadata": {},
   "outputs": [
    {
     "data": {
      "text/plain": [
       "[]"
      ]
     },
     "execution_count": 46,
     "metadata": {},
     "output_type": "execute_result"
    },
    {
     "data": {
      "image/png": "[encoded data removed]",
      "text/plain": [
       "<Figure size 640x480 with 1 Axes>"
      ]
     },
     "metadata": {},
     "output_type": "display_data"
    }
   ],
   "source": [
    "#TODO: Add a comment here\n",
    "f1_names = [\"f1_model_1\", \"f1_model_2\", \"f1_model_3\"]\n",
    "# create a dataframe with the values and names\n",
    "df_f1 = pd.DataFrame({'f1_score (higher the better)': f1_values, 'f1_model': f1_names})\n",
    "\n",
    "# use seaborn to plot the bar chart\n",
    "sns.barplot(x='f1_model', y='f1_score (higher the better)', data=df_f1)\n",
    "plt.ylim(0.904026, 0.904031)\n",
    "plt.title('f1_values')\n",
    "plt.plot()\n",
    "\n",
    "\n"
   ]
  },
  {
   "cell_type": "code",
   "execution_count": 47,
   "id": "52458fd9-7fc4-4820-bd81-1125a02815fe",
   "metadata": {},
   "outputs": [
    {
     "data": {
      "text/plain": [
       "[0.9040273617866051, 0.9040267862122666, 0.9040308861197852]"
      ]
     },
     "execution_count": 47,
     "metadata": {},
     "output_type": "execute_result"
    }
   ],
   "source": [
    "f1_values"
   ]
  },
  {
   "cell_type": "code",
   "execution_count": null,
   "id": "c24c50a7-34b1-4c67-8e76-0668d4fb58dd",
   "metadata": {},
   "outputs": [],
   "source": []
  }
 ],
 "metadata": {
  "kernelspec": {
   "display_name": "Python 3",
   "language": "python",
   "name": "python3"
  },
  "language_info": {
   "codemirror_mode": {
    "name": "ipython",
    "version": 3
   },
   "file_extension": ".py",
   "mimetype": "text/x-python",
   "name": "python",
   "nbconvert_exporter": "python",
   "pygments_lexer": "ipython3",
   "version": "3.10.10"
  },
  "vscode": {
   "interpreter": {
    "hash": "c31c2c93585b55e010b9381178aeeb9bb3aa7fa708fada384ae012c2fbd9b3c8"
   }
  }
 },
 "nbformat": 4,
 "nbformat_minor": 5
}
